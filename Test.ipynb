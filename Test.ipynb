{
 "cells": [
  {
   "cell_type": "markdown",
   "metadata": {},
   "source": [
    "## Chat with Me"
   ]
  },
  {
   "cell_type": "markdown",
   "metadata": {},
   "source": [
    "### Set Environment Variables"
   ]
  },
  {
   "cell_type": "code",
   "execution_count": 9,
   "metadata": {},
   "outputs": [],
   "source": [
    "import os\n",
    "import json\n",
    "with open('config.json') as config_file:\n",
    "    config = json.load(config_file)\n",
    "os.environ['OPENAI_API_KEY'] = config[\"OPENAI_KEY\"]\n",
    "os.environ['GOOGLE_APPLICATION_CREDENTIALS'] = config[\"GOOGLE_APPLICATION_CREDENTIALS\"]"
   ]
  },
  {
   "cell_type": "markdown",
   "metadata": {},
   "source": [
    "### Live speech -> Text"
   ]
  },
  {
   "cell_type": "code",
   "execution_count": 39,
   "metadata": {},
   "outputs": [
    {
     "name": "stdout",
     "output_type": "stream",
     "text": [
      "Recording...\n",
      "Finished recording.\n"
     ]
    }
   ],
   "source": [
    "import pyaudio\n",
    "import wave\n",
    "\n",
    "def record_audio(RECORD_SECONDS=5, WAVE_OUTPUT_FILENAME=\"output.wav\"):\n",
    "    FORMAT = pyaudio.paInt16  # Audio format (16-bit PCM)\n",
    "    CHANNELS = 1              # Single channel for microphone\n",
    "    RATE = 44100              # Sampling rate\n",
    "    CHUNK = 1024              # Number of frames per buffer\n",
    "    device_index = None       # Device index or None to select default\n",
    "    \n",
    "    audio = pyaudio.PyAudio()\n",
    "\n",
    "    # Open audio stream\n",
    "    stream = audio.open(format=FORMAT, channels=CHANNELS,\n",
    "                        rate=RATE, input=True,\n",
    "                        frames_per_buffer=CHUNK,\n",
    "                        input_device_index=device_index)\n",
    "\n",
    "    print(\"Recording...\")\n",
    "\n",
    "    frames = []\n",
    "\n",
    "    # Start recording\n",
    "    for i in range(int(RATE / CHUNK * RECORD_SECONDS)):\n",
    "        data = stream.read(CHUNK)\n",
    "        frames.append(data)\n",
    "\n",
    "    print(\"Finished recording.\")\n",
    "\n",
    "    # Stop and close the stream \n",
    "    stream.stop_stream()\n",
    "    stream.close()\n",
    "    audio.terminate()\n",
    "\n",
    "    # Save the recorded data as a WAV file\n",
    "    wf = wave.open(WAVE_OUTPUT_FILENAME, 'wb')\n",
    "    wf.setnchannels(CHANNELS)\n",
    "    wf.setsampwidth(audio.get_sample_size(FORMAT))\n",
    "    wf.setframerate(RATE)\n",
    "    wf.writeframes(b''.join(frames))\n",
    "    wf.close()\n",
    "\n",
    "# Usage\n",
    "record_audio(5, \"input_recording.wav\")\n"
   ]
  },
  {
   "cell_type": "markdown",
   "metadata": {},
   "source": [
    "### Speech Input -> Text Input"
   ]
  },
  {
   "cell_type": "code",
   "execution_count": 40,
   "metadata": {},
   "outputs": [
    {
     "name": "stdout",
     "output_type": "stream",
     "text": [
      "Transcript: David is a son of a bitch\n"
     ]
    }
   ],
   "source": [
    "from google.cloud import speech\n",
    "from google.oauth2 import service_account\n",
    "\n",
    "def transcribe_audio(speech_file, language=\"en-US\"):\n",
    "    # Path to your service account key file\n",
    "    key_file_path = \"multilingual-chat-bot.json\"\n",
    "\n",
    "    # Create credentials using the service account key file\n",
    "    credentials = service_account.Credentials.from_service_account_file(\n",
    "        key_file_path,\n",
    "        scopes=[\"https://www.googleapis.com/auth/cloud-platform\"]\n",
    "    )\n",
    "\n",
    "    # Authenticate the client using the credentials\n",
    "    # client = texttospeech.TextToSpeechClient(credentials=credentials)\n",
    "\n",
    "    client = speech.SpeechClient(credentials=credentials)\n",
    "\n",
    "    with open(speech_file, \"rb\") as audio_file:\n",
    "        content = audio_file.read()\n",
    "\n",
    "    audio = speech.RecognitionAudio(content=content)\n",
    "    config = speech.RecognitionConfig(\n",
    "        encoding=speech.RecognitionConfig.AudioEncoding.LINEAR16,\n",
    "        language_code='en-US',  # Language of the audio\n",
    "    )\n",
    "\n",
    "    response = client.recognize(config=config, audio=audio)\n",
    "\n",
    "    for result in response.results:\n",
    "        print(\"Transcript: {}\".format(result.alternatives[0].transcript))\n",
    "\n",
    "# Usage example: Pass the path to an audio file\n",
    "transcribe_audio(\"input_recording.wav\")\n"
   ]
  },
  {
   "cell_type": "markdown",
   "metadata": {},
   "source": [
    "### Text Input -> ChatGPT"
   ]
  },
  {
   "cell_type": "code",
   "execution_count": 3,
   "metadata": {},
   "outputs": [
    {
     "name": "stdout",
     "output_type": "stream",
     "text": [
      "{\n",
      "  \"message_role\": \"assistant\",\n",
      "  \"message_content\": \"In the world of code, a concept profound,\\nRecursion is a loop that astounds.\\nA function calls itself, again and again,\\nSolving problems with a clever refrain.\\n\\nLike a mirror reflecting, endlessly clear,\\nRecursion dives deep, without fear.\\nIt breaks down tasks into smaller parts,\\nUnraveling mysteries, connecting hearts.\\n\\nJust as in languages, varied and vast,\\nRecursion transcends, leaving memories to last.\\nA loop within a loop, a program's delight,\\nSolving complexities, shining bright.\\n\\nSo embrace recursion, in coding's domain,\\nLet its magic weave, a beautiful chain.\\nFor in every step, a loop will be found,\\nRecursion in programming, forever renowned.\"\n",
      "}\n"
     ]
    }
   ],
   "source": [
    "import os\n",
    "from openai import OpenAI\n",
    "import json\n",
    "\n",
    "# Load the OpenAI API key from the environment variable\n",
    "api_key = os.environ.get(\"OPENAI_API_KEY\")\n",
    "\n",
    "# Create the OpenAI client\n",
    "client = OpenAI(api_key=api_key)\n",
    "\n",
    "# Create a chat completion\n",
    "completion = client.chat.completions.create(\n",
    "    model=\"gpt-3.5-turbo\",\n",
    "    messages=[\n",
    "        {\"role\": \"system\", \"content\": \"You are a multilingual. \"},\n",
    "        {\"role\": \"user\", \"content\": \"Compose a poem that explains the concept of recursion in programming.\"}\n",
    "    ]\n",
    ")\n",
    "\n",
    "# Get the response message\n",
    "response_message = completion.choices[0].message\n",
    "\n",
    "# Extract the relevant parts\n",
    "result = {\n",
    "    \"message_role\": response_message.role,\n",
    "    \"message_content\": response_message.content\n",
    "}\n",
    "\n",
    "# Pretty-print the output\n",
    "print(json.dumps(result, indent=2))"
   ]
  },
  {
   "cell_type": "markdown",
   "metadata": {},
   "source": [
    "### ChatGPT Response -> Audio Response"
   ]
  },
  {
   "cell_type": "code",
   "execution_count": 17,
   "metadata": {},
   "outputs": [
    {
     "name": "stdout",
     "output_type": "stream",
     "text": [
      "Audio content written to file \"output.mp3\"\n"
     ]
    }
   ],
   "source": [
    "from google.cloud import texttospeech\n",
    "from google.oauth2 import service_account\n",
    "\n",
    "# Path to your service account key file\n",
    "key_file_path = \"multilingual-chat-bot.json\"\n",
    "\n",
    "# Create credentials using the service account key file\n",
    "credentials = service_account.Credentials.from_service_account_file(\n",
    "    key_file_path,\n",
    "    scopes=[\"https://www.googleapis.com/auth/cloud-platform\"]\n",
    ")\n",
    "\n",
    "# Authenticate the client using the credentials\n",
    "client = texttospeech.TextToSpeechClient(credentials=credentials)\n",
    "\n",
    "\n",
    "# Set the text input to be synthesized\n",
    "synthesis_input = texttospeech.SynthesisInput(text=\"你好，你今天好吗？\")\n",
    "\n",
    "# Build the voice request\n",
    "# voice = texttospeech.VoiceSelectionParams(\n",
    "#     language_code=\"en-US\", ssml_gender=texttospeech.SsmlVoiceGender.NEUTRAL\n",
    "# )\n",
    "\n",
    "voice = texttospeech.VoiceSelectionParams(\n",
    "    language_code=\"zh-CN\", ssml_gender=texttospeech.SsmlVoiceGender.NEUTRAL\n",
    ")\n",
    "\n",
    "# Select the type of audio file you want returned\n",
    "audio_config = texttospeech.AudioConfig(\n",
    "    audio_encoding=texttospeech.AudioEncoding.MP3\n",
    ")\n",
    "\n",
    "# Perform the text-to-speech request\n",
    "response = client.synthesize_speech(\n",
    "    input=synthesis_input, voice=voice, audio_config=audio_config\n",
    ")\n",
    "\n",
    "# The response's audio_content is binary.\n",
    "with open(\"output.mp3\", \"wb\") as out:\n",
    "    out.write(response.audio_content)\n",
    "    print('Audio content written to file \"output.mp3\"')\n"
   ]
  }
 ],
 "metadata": {
  "kernelspec": {
   "display_name": "base",
   "language": "python",
   "name": "python3"
  },
  "language_info": {
   "codemirror_mode": {
    "name": "ipython",
    "version": 3
   },
   "file_extension": ".py",
   "mimetype": "text/x-python",
   "name": "python",
   "nbconvert_exporter": "python",
   "pygments_lexer": "ipython3",
   "version": "3.10.14"
  }
 },
 "nbformat": 4,
 "nbformat_minor": 2
}
