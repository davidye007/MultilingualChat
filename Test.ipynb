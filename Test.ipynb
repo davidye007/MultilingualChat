{
 "cells": [
  {
   "cell_type": "markdown",
   "metadata": {},
   "source": [
    "## Chat with Me"
   ]
  },
  {
   "cell_type": "markdown",
   "metadata": {},
   "source": [
    "### How long will you speak for?\n",
    "e.g. 5 seconds"
   ]
  },
  {
   "cell_type": "code",
   "execution_count": 2,
   "metadata": {},
   "outputs": [],
   "source": [
    "speak_time = 5"
   ]
  },
  {
   "cell_type": "markdown",
   "metadata": {},
   "source": [
    "### What language do you want to converse in?'\n",
    "e.g. English"
   ]
  },
  {
   "cell_type": "code",
   "execution_count": 3,
   "metadata": {},
   "outputs": [],
   "source": [
    "lang = 'en-US'"
   ]
  },
  {
   "cell_type": "markdown",
   "metadata": {},
   "source": [
    "### Let's Begin!"
   ]
  },
  {
   "cell_type": "code",
   "execution_count": 35,
   "metadata": {},
   "outputs": [
    {
     "name": "stdout",
     "output_type": "stream",
     "text": [
      "Recording...\n",
      "Finished recording.\n",
      "alright it should work\n",
      "{\n",
      "  \"message_role\": \"assistant\",\n",
      "  \"message_content\": \"That's great to hear! I'm glad it's working now. What will you be using it for?\"\n",
      "}\n",
      "Audio content written to file \"output.mp3\"\n"
     ]
    }
   ],
   "source": [
    "chat_with_me(speak_time, lang)\n"
   ]
  },
  {
   "cell_type": "code",
   "execution_count": 34,
   "metadata": {},
   "outputs": [],
   "source": [
    "import os\n",
    "import json\n",
    "with open('config.json') as config_file:\n",
    "    config = json.load(config_file)\n",
    "os.environ['OPENAI_API_KEY'] = config[\"OPENAI_KEY\"]\n",
    "os.environ['GOOGLE_APPLICATION_CREDENTIALS'] = config[\"GOOGLE_APPLICATION_CREDENTIALS\"]\n",
    "\n",
    "\n",
    "def chat_with_me(speak_time, lang):\n",
    "    record_me(speak_time, \"output.wav\")\n",
    "    transcription_out  = audio_to_text(\"output.wav\", language = lang)\n",
    "    chat_out = chatGPT_response(transcription_out)\n",
    "    text_to_audio(chat_out, lang)\n",
    "\n"
   ]
  },
  {
   "cell_type": "markdown",
   "metadata": {},
   "source": [
    "### Live Speech -> Text"
   ]
  },
  {
   "cell_type": "code",
   "execution_count": 21,
   "metadata": {},
   "outputs": [],
   "source": [
    "import pyaudio\n",
    "import wave\n",
    "\n",
    "def record_me(RECORD_SECONDS=5, WAVE_OUTPUT_FILENAME=\"output.wav\"):\n",
    "    FORMAT = pyaudio.paInt16  # Audio format (16-bit PCM)\n",
    "    CHANNELS = 1              # Single channel for microphone\n",
    "    RATE = 44100              # Sampling rate\n",
    "    CHUNK = 1024              # Number of frames per buffer\n",
    "    device_index = None       # Device index or None to select default\n",
    "\n",
    "    audio = pyaudio.PyAudio()\n",
    "\n",
    "    # Open audio stream\n",
    "    stream = audio.open(format=FORMAT, channels=CHANNELS,\n",
    "                        rate=RATE, input=True,\n",
    "                        frames_per_buffer=CHUNK,\n",
    "                        input_device_index=device_index)\n",
    "\n",
    "    print(\"Recording...\")\n",
    "\n",
    "    frames = []\n",
    "\n",
    "    # Start recording\n",
    "    for i in range(int(RATE / CHUNK * RECORD_SECONDS)):\n",
    "        data = stream.read(CHUNK)\n",
    "        frames.append(data)\n",
    "\n",
    "    print(\"Finished recording.\")\n",
    "\n",
    "    # Stop and close the stream\n",
    "    stream.stop_stream()\n",
    "    stream.close()\n",
    "    audio.terminate()\n",
    "\n",
    "    # Save the recorded data as a WAV file\n",
    "    wf = wave.open(WAVE_OUTPUT_FILENAME, 'wb')\n",
    "    wf.setnchannels(CHANNELS)\n",
    "    wf.setsampwidth(audio.get_sample_size(FORMAT))\n",
    "    wf.setframerate(RATE)\n",
    "    wf.writeframes(b''.join(frames))\n",
    "    wf.close()"
   ]
  },
  {
   "cell_type": "markdown",
   "metadata": {},
   "source": [
    "### Audio -> Text"
   ]
  },
  {
   "cell_type": "code",
   "execution_count": 32,
   "metadata": {},
   "outputs": [],
   "source": [
    "from google.cloud import speech\n",
    "from google.oauth2 import service_account\n",
    "\n",
    "def audio_to_text(speech_file, language):\n",
    "    # Path to your service account key file\n",
    "    key_file_path = \"multilingual-chat-bot.json\"\n",
    "\n",
    "    # Create credentials using the service account key file\n",
    "    credentials = service_account.Credentials.from_service_account_file(\n",
    "        key_file_path,\n",
    "        scopes=[\"https://www.googleapis.com/auth/cloud-platform\"]\n",
    "    )\n",
    "\n",
    "    # Authenticate the client using the credentials\n",
    "    # client = texttospeech.TextToSpeechClient(credentials=credentials)\n",
    "\n",
    "    client = speech.SpeechClient(credentials=credentials)\n",
    "\n",
    "    with open(speech_file, \"rb\") as audio_file:\n",
    "        content = audio_file.read()\n",
    "\n",
    "    audio = speech.RecognitionAudio(content=content)\n",
    "    config = speech.RecognitionConfig(\n",
    "        encoding=speech.RecognitionConfig.AudioEncoding.LINEAR16,\n",
    "        language_code=language,  # Language of the audio\n",
    "    )\n",
    "\n",
    "    response = client.recognize(config=config, audio=audio)\n",
    "\n",
    "    for result in response.results:\n",
    "        # print(\"Transcript: {}\".format(result.alternatives[0].transcript))\n",
    "        print(result.alternatives[0].transcript)\n",
    "    return result.alternatives[0].transcript"
   ]
  },
  {
   "cell_type": "markdown",
   "metadata": {},
   "source": [
    "### Text Input -> ChatGPT"
   ]
  },
  {
   "cell_type": "code",
   "execution_count": 28,
   "metadata": {},
   "outputs": [],
   "source": [
    "import os\n",
    "from openai import OpenAI\n",
    "import json\n",
    "\n",
    "\n",
    "def chatGPT_response(input):\n",
    "    # Load the OpenAI API key from the environment variable\n",
    "    api_key = os.environ.get(\"OPENAI_API_KEY\")\n",
    "\n",
    "    # Create the OpenAI client\n",
    "    client = OpenAI(api_key=api_key)\n",
    "\n",
    "    # Create a chat completion\n",
    "    completion = client.chat.completions.create(\n",
    "        model=\"gpt-3.5-turbo\",\n",
    "        messages=[\n",
    "            {\"role\": \"system\", \"content\": \"You are a great conversationalist. \"},\n",
    "            {\"role\": \"user\", \"content\": \"Reply to: \" + input}\n",
    "        ]\n",
    "    )\n",
    "    # Get the response message\n",
    "    response_message = completion.choices[0].message\n",
    "    # Extract the relevant parts\n",
    "    result = {\n",
    "        \"message_role\": response_message.role,\n",
    "        \"message_content\": response_message.content\n",
    "    }\n",
    "    # Pretty-print the output\n",
    "    print(json.dumps(result, indent=2))\n",
    "    return (response_message.content)"
   ]
  },
  {
   "cell_type": "markdown",
   "metadata": {},
   "source": [
    "### Text -> Audio"
   ]
  },
  {
   "cell_type": "code",
   "execution_count": 33,
   "metadata": {},
   "outputs": [],
   "source": [
    "from google.cloud import texttospeech\n",
    "from google.oauth2 import service_account\n",
    "\n",
    "def text_to_audio(output, language):\n",
    "    # Path to your service account key file\n",
    "    key_file_path = \"multilingual-chat-bot.json\"\n",
    "\n",
    "    # Create credentials using the service account key file\n",
    "    credentials = service_account.Credentials.from_service_account_file(\n",
    "        key_file_path,\n",
    "        scopes=[\"https://www.googleapis.com/auth/cloud-platform\"]\n",
    "    )\n",
    "\n",
    "    # Authenticate the client using the credentials\n",
    "    client = texttospeech.TextToSpeechClient(credentials=credentials)\n",
    "\n",
    "\n",
    "    # Set the text input to be synthesized\n",
    "    synthesis_input = texttospeech.SynthesisInput(text=output)\n",
    "\n",
    "    # Build the voice request\n",
    "    voice = texttospeech.VoiceSelectionParams(\n",
    "        language_code=language, ssml_gender=texttospeech.SsmlVoiceGender.NEUTRAL\n",
    "    )\n",
    "\n",
    "    # Select the type of audio file you want returned\n",
    "    audio_config = texttospeech.AudioConfig(\n",
    "        audio_encoding=texttospeech.AudioEncoding.MP3\n",
    "    )\n",
    "\n",
    "    # Perform the text-to-speech request\n",
    "    response = client.synthesize_speech(\n",
    "        input=synthesis_input, voice=voice, audio_config=audio_config\n",
    "    )\n",
    "\n",
    "    # The response's audio_content is binary.\n",
    "    with open(\"output.mp3\", \"wb\") as out:\n",
    "        out.write(response.audio_content)\n",
    "        print('Audio content written to file \"output.mp3\"')\n"
   ]
  },
  {
   "cell_type": "code",
   "execution_count": null,
   "metadata": {},
   "outputs": [],
   "source": []
  }
 ],
 "metadata": {
  "kernelspec": {
   "display_name": "base",
   "language": "python",
   "name": "python3"
  },
  "language_info": {
   "codemirror_mode": {
    "name": "ipython",
    "version": 3
   },
   "file_extension": ".py",
   "mimetype": "text/x-python",
   "name": "python",
   "nbconvert_exporter": "python",
   "pygments_lexer": "ipython3",
   "version": "3.10.14"
  }
 },
 "nbformat": 4,
 "nbformat_minor": 2
}
